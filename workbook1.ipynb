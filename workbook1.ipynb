{
 "cells": [
  {
   "cell_type": "code",
   "execution_count": null,
   "metadata": {
    "collapsed": true
   },
   "outputs": [],
   "source": []
  },
  {
   "cell_type": "code",
   "execution_count": 17,
   "metadata": {
    "collapsed": true
   },
   "outputs": [],
   "source": [
    "%%bash\n",
    "cat <<_EOF_> whereami.sh\n",
    "#!/bin/bash\n",
    "\n",
    "echo \"You are in pwd\"\n",
    "_EOF_"
   ]
  },
  {
   "cell_type": "code",
   "execution_count": 2,
   "metadata": {
    "collapsed": false
   },
   "outputs": [
    {
     "name": "stderr",
     "output_type": "stream",
     "text": [
      "cat: whereami.sh: No such file or directory\n"
     ]
    }
   ],
   "source": [
    "%%bash\n",
    "cat whereami.sh\n"
   ]
  },
  {
   "cell_type": "code",
   "execution_count": 3,
   "metadata": {
    "collapsed": false
   },
   "outputs": [
    {
     "name": "stdout",
     "output_type": "stream",
     "text": [
      "#!/bin/bash\n",
      "\n",
      "echo\"You are in pwd\"\n"
     ]
    }
   ],
   "source": [
    "%%bash\n",
    "cat whereami.ssh\n"
   ]
  },
  {
   "cell_type": "code",
   "execution_count": 4,
   "metadata": {
    "collapsed": false
   },
   "outputs": [
    {
     "name": "stdout",
     "output_type": "stream",
     "text": [
      " Volume in drive C has no label.\n",
      " Volume Serial Number is 72AC-6DCC\n",
      "\n",
      " Directory of C:\\cygwin64\\home\\t00189412\n",
      "\n",
      "\n",
      " Directory of C:\\cygwin64\\home\\t00189412\n",
      "\n",
      "10/02/2017  11:46                34 whereami.ssh\n",
      "               1 File(s)             34 bytes\n",
      "               0 Dir(s)  451,828,523,008 bytes free\n"
     ]
    }
   ],
   "source": [
    "ls -l whereami.ssh\n"
   ]
  },
  {
   "cell_type": "code",
   "execution_count": 5,
   "metadata": {
    "collapsed": false
   },
   "outputs": [
    {
     "name": "stderr",
     "output_type": "stream",
     "text": [
      "bash: line 1: ./whereami.ssh: Permission denied\n"
     ]
    }
   ],
   "source": [
    "%%bsh\n",
    "./whereami.ssh\n"
   ]
  },
  {
   "cell_type": "code",
   "execution_count": null,
   "metadata": {
    "collapsed": true
   },
   "outputs": [],
   "source": []
  },
  {
   "cell_type": "code",
   "execution_count": 7,
   "metadata": {
    "collapsed": false
   },
   "outputs": [
    {
     "name": "stdout",
     "output_type": "stream",
     "text": [
      "-rw-r--r-- 1 t00189412 Domain Users 34 Feb 10 11:46 whereami.ssh\n"
     ]
    }
   ],
   "source": [
    "%%bash\n",
    "ls -l whereami.ssh\n"
   ]
  },
  {
   "cell_type": "code",
   "execution_count": 8,
   "metadata": {
    "collapsed": false
   },
   "outputs": [
    {
     "name": "stderr",
     "output_type": "stream",
     "text": [
      "bash: line 1: ./whereami.ssh: Permission denied\n"
     ]
    }
   ],
   "source": [
    "%%bash\n",
    "./whereami.ssh\n"
   ]
  },
  {
   "cell_type": "code",
   "execution_count": 9,
   "metadata": {
    "collapsed": true
   },
   "outputs": [],
   "source": [
    "%%bash\n",
    "chmod u+x whereami.sh"
   ]
  },
  {
   "cell_type": "code",
   "execution_count": 10,
   "metadata": {
    "collapsed": false
   },
   "outputs": [
    {
     "ename": "SyntaxError",
     "evalue": "invalid syntax (<ipython-input-10-640bd4e364c9>, line 1)",
     "output_type": "error",
     "traceback": [
      "\u001b[1;36m  File \u001b[1;32m\"<ipython-input-10-640bd4e364c9>\"\u001b[1;36m, line \u001b[1;32m1\u001b[0m\n\u001b[1;33m    ./whereami.sh\u001b[0m\n\u001b[1;37m    ^\u001b[0m\n\u001b[1;31mSyntaxError\u001b[0m\u001b[1;31m:\u001b[0m invalid syntax\n"
     ]
    }
   ],
   "source": [
    "./whereami.sh"
   ]
  },
  {
   "cell_type": "code",
   "execution_count": 11,
   "metadata": {
    "collapsed": false
   },
   "outputs": [
    {
     "name": "stderr",
     "output_type": "stream",
     "text": [
      "./whereami.sh: line 3: echoYou are in pwd: command not found\n"
     ]
    }
   ],
   "source": [
    "%%bash\n",
    "./whereami.sh"
   ]
  },
  {
   "cell_type": "code",
   "execution_count": 12,
   "metadata": {
    "collapsed": false
   },
   "outputs": [
    {
     "name": "stderr",
     "output_type": "stream",
     "text": [
      "bash: line 1: ./whereami.ssh: Permission denied\n"
     ]
    }
   ],
   "source": [
    "%%bash\n",
    "./whereami.ssh"
   ]
  },
  {
   "cell_type": "code",
   "execution_count": 13,
   "metadata": {
    "collapsed": true
   },
   "outputs": [],
   "source": [
    "%%bash\n",
    "chmod u+x whereami.ssh"
   ]
  },
  {
   "cell_type": "code",
   "execution_count": 14,
   "metadata": {
    "collapsed": false
   },
   "outputs": [
    {
     "name": "stderr",
     "output_type": "stream",
     "text": [
      "./whereami.ssh: line 3: echoYou are in pwd: command not found\n"
     ]
    }
   ],
   "source": [
    "%%bash\n",
    "./whereami.ssh\n"
   ]
  },
  {
   "cell_type": "code",
   "execution_count": 16,
   "metadata": {
    "collapsed": false
   },
   "outputs": [
    {
     "name": "stderr",
     "output_type": "stream",
     "text": [
      "./whereami.ssh: line 3: echoYou are in pwd: command not found\n"
     ]
    }
   ],
   "source": [
    "%%bash\n",
    "./whereami.ssh"
   ]
  },
  {
   "cell_type": "code",
   "execution_count": 18,
   "metadata": {
    "collapsed": true
   },
   "outputs": [],
   "source": [
    "%%bash\n",
    "cat <<_EOF_> whereami.sh\n",
    "#!/bin/bash\n",
    "\n",
    "echo \"You are in pwd\"\n",
    "_EOF_"
   ]
  },
  {
   "cell_type": "code",
   "execution_count": null,
   "metadata": {
    "collapsed": true
   },
   "outputs": [],
   "source": []
  },
  {
   "cell_type": "code",
   "execution_count": null,
   "metadata": {
    "collapsed": true
   },
   "outputs": [],
   "source": []
  },
  {
   "cell_type": "code",
   "execution_count": 19,
   "metadata": {
    "collapsed": false
   },
   "outputs": [
    {
     "name": "stderr",
     "output_type": "stream",
     "text": [
      "./whereami.ssh: line 3: echoYou are in pwd: command not found\n"
     ]
    }
   ],
   "source": [
    "%%bash\n",
    "./whereami.ssh"
   ]
  },
  {
   "cell_type": "code",
   "execution_count": 20,
   "metadata": {
    "collapsed": true
   },
   "outputs": [],
   "source": [
    "%%bash\n",
    "cat <<_EOF_> whereami.ssh\n",
    "#!/bin/bash\n",
    "\n",
    "echo \"You are in pwd\"\n",
    "_EOF_"
   ]
  },
  {
   "cell_type": "code",
   "execution_count": 21,
   "metadata": {
    "collapsed": false
   },
   "outputs": [
    {
     "name": "stdout",
     "output_type": "stream",
     "text": [
      "You are in pwd\n"
     ]
    }
   ],
   "source": [
    "%%bash\n",
    "./whereami.ssh"
   ]
  },
  {
   "cell_type": "code",
   "execution_count": 22,
   "metadata": {
    "collapsed": false
   },
   "outputs": [
    {
     "name": "stdout",
     "output_type": "stream",
     "text": [
      "/home/t00189412\n"
     ]
    }
   ],
   "source": [
    "%%bash\n",
    "echo \"$(pwd)\"\n"
   ]
  },
  {
   "cell_type": "code",
   "execution_count": null,
   "metadata": {
    "collapsed": true
   },
   "outputs": [],
   "source": []
  },
  {
   "cell_type": "code",
   "execution_count": null,
   "metadata": {
    "collapsed": true
   },
   "outputs": [],
   "source": []
  },
  {
   "cell_type": "code",
   "execution_count": 23,
   "metadata": {
    "collapsed": false
   },
   "outputs": [
    {
     "name": "stdout",
     "output_type": "stream",
     "text": [
      "Filesystem         1K-blocks       Used     Available Use% Mounted on\n",
      "C:/cygwin64        934570312  493329452     441240860  53% /\n",
      "K:                1073753084  480890652     592862432  45% /cygdrive/k\n",
      "M:                2959300616 1875025124    1084275492  64% /cygdrive/m\n",
      "N:                 100584316   86867520      13716796  87% /cygdrive/n\n",
      "X:             1072668082176          0 1072668082176   0% /cygdrive/x\n"
     ]
    }
   ],
   "source": [
    "%%%%bash\n",
    "df"
   ]
  },
  {
   "cell_type": "code",
   "execution_count": 24,
   "metadata": {
    "collapsed": true
   },
   "outputs": [],
   "source": [
    "%%bash\n",
    "cat <<_EOF_> whereami.sh\n",
    "#!/bin/bash\n",
    "\n",
    "echo \"You are in $(pwd)\"\n",
    "_EOF_"
   ]
  },
  {
   "cell_type": "code",
   "execution_count": 25,
   "metadata": {
    "collapsed": false
   },
   "outputs": [
    {
     "ename": "SyntaxError",
     "evalue": "invalid syntax (<ipython-input-25-a1a877989e40>, line 1)",
     "output_type": "error",
     "traceback": [
      "\u001b[1;36m  File \u001b[1;32m\"<ipython-input-25-a1a877989e40>\"\u001b[1;36m, line \u001b[1;32m1\u001b[0m\n\u001b[1;33m    cat whereami.ssh\u001b[0m\n\u001b[1;37m               ^\u001b[0m\n\u001b[1;31mSyntaxError\u001b[0m\u001b[1;31m:\u001b[0m invalid syntax\n"
     ]
    }
   ],
   "source": [
    "cat whereami.ssh"
   ]
  },
  {
   "cell_type": "code",
   "execution_count": 26,
   "metadata": {
    "collapsed": false
   },
   "outputs": [
    {
     "name": "stdout",
     "output_type": "stream",
     "text": [
      "You are in pwd\n"
     ]
    }
   ],
   "source": [
    "%%bash\n",
    "\n",
    "#i use command expantion to get the display using the window\n",
    "cat <<_EOF_> whereami.sh\n",
    "#!/bin/bash\n",
    "\n",
    "echo \"You are in pwd\"\n",
    "_EOF_\n",
    "\n",
    "./whereami.ssh"
   ]
  },
  {
   "cell_type": "code",
   "execution_count": 29,
   "metadata": {
    "collapsed": false
   },
   "outputs": [
    {
     "name": "stdout",
     "output_type": "stream",
     "text": [
      "You are in pwd\n"
     ]
    }
   ],
   "source": [
    "%%bash\n",
    "\n",
    "#i use command expantion to get the display using the window\n",
    "cat <<_EOF_> whereami.sh\n",
    "#!/bin/bash\n",
    "\n",
    "echo \"You are in $(pwd)\"\n",
    "_EOF_\n",
    "\n",
    "./whereami.ssh"
   ]
  },
  {
   "cell_type": "code",
   "execution_count": 28,
   "metadata": {
    "collapsed": false
   },
   "outputs": [
    {
     "name": "stdout",
     "output_type": "stream",
     "text": [
      "#!/bin/bash\n",
      "\n",
      "echo \"You are in pwd\"\n"
     ]
    }
   ],
   "source": [
    "%%bash\n",
    "cat whereami.ssh"
   ]
  },
  {
   "cell_type": "code",
   "execution_count": 30,
   "metadata": {
    "collapsed": false
   },
   "outputs": [
    {
     "name": "stdout",
     "output_type": "stream",
     "text": [
      "You are in /home/t00189412\n"
     ]
    }
   ],
   "source": [
    "%%bash\n",
    "./whereami.sh"
   ]
  },
  {
   "cell_type": "code",
   "execution_count": 31,
   "metadata": {
    "collapsed": false
   },
   "outputs": [
    {
     "name": "stdout",
     "output_type": "stream",
     "text": [
      "You are in /home/t00189412\n"
     ]
    }
   ],
   "source": [
    "%%bash\n",
    "\n",
    "#i use command expantion to get the display using the window\n",
    "cat <<_EOF_> whereami.sh\n",
    "#!/bin/bash\n",
    "\n",
    "echo \"You are in $(pwd)\"\n",
    "_EOF_\n",
    "\n",
    "./whereami.sh"
   ]
  },
  {
   "cell_type": "code",
   "execution_count": null,
   "metadata": {
    "collapsed": true
   },
   "outputs": [],
   "source": []
  }
 ],
 "metadata": {
  "kernelspec": {
   "display_name": "Python 3",
   "language": "python",
   "name": "python3"
  },
  "language_info": {
   "codemirror_mode": {
    "name": "ipython",
    "version": 3
   },
   "file_extension": ".py",
   "mimetype": "text/x-python",
   "name": "python",
   "nbconvert_exporter": "python",
   "pygments_lexer": "ipython3",
   "version": "3.5.1"
  }
 },
 "nbformat": 4,
 "nbformat_minor": 0
}
