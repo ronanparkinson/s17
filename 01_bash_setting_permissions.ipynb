{
 "cells": [
  {
   "cell_type": "markdown",
   "metadata": {},
   "source": [
    "#### Operating Systems\n",
    "Owen Mackessy, Intitute of Technology Tralee      \n",
    "Ref: [Thomas Kluyver](https://github.com/takluyver/bash_kernel) (referenced by [Jeroen Janssens](http://jeroenjanssens.com/2015/02/19/ibash-notebook.html))"
   ]
  },
  {
   "cell_type": "code",
   "execution_count": null,
   "metadata": {
    "collapsed": true
   },
   "outputs": [],
   "source": [
    "# This notebook behaves (mostly) as if it was a linux command widow\n",
    "# you can enter commands in each cell and press Shift+Enter to run the command"
   ]
  },
  {
   "cell_type": "markdown",
   "metadata": {},
   "source": [
    "### Summary:\n",
    "By the end of this notebook you should be able to:\n",
    "* create a scriptfile using either a HERE document and alternatively by using a text editor using    \n",
    "cat << ENDMARKER > outFile    \n",
    "command    \n",
    "command    \n",
    "ENDMARKER\n",
    "* check and understand the permissions of a file using ls -l\n",
    "* change a files permissions to make it executable using chmod u+x or chmod 744\n",
    "* execute a script from a folder not on the path using ./filename\n",
    "* change the PATH variable so that a scriptfile can be executed from any folder.\n",
    "    \n",
    "You should know:    \n",
    "* that the .bashrc in your home folder is where you can make persistent changes to environment variables such as PATH\n",
    "* that you cannot have spaces in variable assignment (GOOD NUM=4, BAD: NUM = 4)   \n",
    "* a few environment variables: PS1, LANG, SHELL, NAME, PATH"
   ]
  },
  {
   "cell_type": "code",
   "execution_count": null,
   "metadata": {
    "collapsed": false
   },
   "outputs": [],
   "source": [
    "# echo normally displays text to STDOUT, which is usually the command window itself\n",
    "echo \"Hello\""
   ]
  },
  {
   "cell_type": "code",
   "execution_count": null,
   "metadata": {
    "collapsed": false
   },
   "outputs": [],
   "source": [
    "echo \"How are you\""
   ]
  },
  {
   "cell_type": "code",
   "execution_count": null,
   "metadata": {
    "collapsed": false
   },
   "outputs": [],
   "source": [
    "echo \"Goodbye!\""
   ]
  },
  {
   "cell_type": "markdown",
   "metadata": {
    "collapsed": false
   },
   "source": [
    "We can group commands in a textfile (using a text editor) and run them as a unit. Bash gives us programmatic control over how the commands behave. By programmatic control I mean that bash allows us to use many of the normal programming language features (variables, if statements, loops, etc) to control the *flow* of the commands.   \n",
    "   \n",
    "Beware! Unlike Java or Python in bash the commands are themselves linux programs that work on the hardware and files of the computer and can cause serious problems for you including deleting an entire harddrive or your files.   \n",
    "    \n",
    "In particular, you should, as much as possible work in a *sandbox* a set of files and folder that you can delete without deleting your own work. You should always be wary of deleting files and folders."
   ]
  },
  {
   "cell_type": "code",
   "execution_count": null,
   "metadata": {
    "collapsed": false
   },
   "outputs": [],
   "source": [
    "# Ignore the workings of this script\n",
    "# but please run it, it will create a sandbox for you to play in\n",
    "# Always run this script before executing the others below\n",
    "cd ~\n",
    "\n",
    "if [ -d sandbox ] # is there a sub-directory called sandbox?\n",
    "then \n",
    "  echo \"folder sandbox already exists. \"\n",
    "else\n",
    "  echo \"Creating a sandbox folder\"\n",
    "  mkdir \"sandbox\"\n",
    "fi\n",
    "\n",
    "cd sandbox\n",
    "echo \"You are now in the sandbox folder:: \" $(pwd)\n",
    "echo \"You should be able to delete it without losing anything important\""
   ]
  },
  {
   "cell_type": "markdown",
   "metadata": {},
   "source": [
    "# HERE documents\n",
    "We now put the three command (above) into a single file. This file would then be called a 'script'. bash  is a linux (unix) shell scripting language. \n",
    "\n",
    "Normally I would type the commands (the three echo statements below) into a file using an editor like 'vim'  but for the sake of you being able to see everythig nhere in this notebook, I am going to use a 'HERE' document.\n",
    "\n",
    "A here document specifies some arbitrary marker for the end of the document, something that won't occur in the document itself. In this example I am using * << \\_EOF\\_ to * to show that the HERE document ends when it gets to \\_EOF\\_\n",
    "\n",
    "Another feature of the here document is that it *redirects* the output to a file. We will look at redirection later. If you want to see what happens without the redirection, simply place a comment *#*  between the \\EOF\\_ and the > as follows   \n",
    "    \n",
    "cat << \\_EOF\\_ # > aFewCommands    \n",
    "\n",
    "and run the cell again"
   ]
  },
  {
   "cell_type": "code",
   "execution_count": null,
   "metadata": {
    "collapsed": true
   },
   "outputs": [],
   "source": [
    "# use a HERE document to create a file called aFewCommands\n",
    "# _EOF_ is specified as an end marker. The cat command reads all the lines until it reaches the marker and then \n",
    "# redirects to the aFewCommands file\n",
    "\n",
    "cat << _EOF_ > aFewCommands\n",
    "echo \"Hello\"\n",
    "echo \"How are you\"\n",
    "echo \"Goodbye!\"\n",
    "_EOF_"
   ]
  },
  {
   "cell_type": "code",
   "execution_count": null,
   "metadata": {
    "collapsed": false
   },
   "outputs": [],
   "source": [
    "# use ls to verify the file has been created\n",
    "ls aFewCommands"
   ]
  },
  {
   "cell_type": "code",
   "execution_count": null,
   "metadata": {
    "collapsed": false
   },
   "outputs": [],
   "source": [
    "# use cat to display the contents of the script file\n",
    "cat aFewCommands"
   ]
  },
  {
   "cell_type": "code",
   "execution_count": null,
   "metadata": {
    "collapsed": false
   },
   "outputs": [],
   "source": [
    "# use the bash command to run the script\n",
    "bash aFewCommands"
   ]
  },
  {
   "cell_type": "code",
   "execution_count": null,
   "metadata": {
    "collapsed": false
   },
   "outputs": [],
   "source": [
    "# the aFewCommands files doesn't have permission to execute\n",
    "./aFewCommands"
   ]
  },
  {
   "cell_type": "code",
   "execution_count": null,
   "metadata": {
    "collapsed": false
   },
   "outputs": [],
   "source": [
    "# change its permission so that it is executable\n",
    "chmod u+x aFewCommands\n",
    "\n",
    "# now try to execute it\n",
    "./aFewCommands"
   ]
  },
  {
   "cell_type": "code",
   "execution_count": null,
   "metadata": {
    "collapsed": false
   },
   "outputs": [],
   "source": [
    "# Did you expect that to run?\n",
    "# bash is probably the default shell for this linux installation\n",
    "\n",
    "# the default shell for a user is shown in their entry in the /etc/passwd file\n",
    "# Look in /etc/passwd for your default shell script\n",
    "cat /etc/passwd | grep $USER"
   ]
  },
  {
   "cell_type": "code",
   "execution_count": null,
   "metadata": {
    "collapsed": true
   },
   "outputs": [],
   "source": [
    "# You shouldn't rely on bash being the default shell\n",
    "\n",
    "# use a HERE document to create a file called aBashScript.sh\n",
    "# convention is to identify script files with a .sh file extension\n",
    "# specifying what should execute the script will make it work\n",
    "# even when the default shell is not bash\n",
    "\n",
    "# putting #!/bin/bash on the first line of the script will specify that it is a bash script\n",
    "\n",
    "cat << _EOF_ > aBashScript.sh\n",
    "#!/bin/bash\n",
    "\n",
    "echo \"Hello\"\n",
    "echo \"How are you\"\n",
    "echo \"Goodbye!\"\n",
    "_EOF_"
   ]
  },
  {
   "cell_type": "code",
   "execution_count": null,
   "metadata": {
    "collapsed": false
   },
   "outputs": [],
   "source": [
    "cat aBashScript.sh"
   ]
  },
  {
   "cell_type": "code",
   "execution_count": null,
   "metadata": {
    "collapsed": false
   },
   "outputs": [],
   "source": [
    "./aBashScript.sh"
   ]
  },
  {
   "cell_type": "code",
   "execution_count": null,
   "metadata": {
    "collapsed": true
   },
   "outputs": [],
   "source": [
    "# using numbers to specify permissions...\n",
    "# In binary 7 is 111\n",
    "# 111\n",
    "# rwx\n",
    "\n",
    "chmod 700 aBashScript.sh"
   ]
  },
  {
   "cell_type": "code",
   "execution_count": null,
   "metadata": {
    "collapsed": false
   },
   "outputs": [],
   "source": [
    "# it should now be runnable\n",
    "ls -l aBashScript.sh"
   ]
  },
  {
   "cell_type": "code",
   "execution_count": null,
   "metadata": {
    "collapsed": false
   },
   "outputs": [],
   "source": [
    "# try to run it!\n",
    "aBashScript.sh"
   ]
  },
  {
   "cell_type": "code",
   "execution_count": null,
   "metadata": {
    "collapsed": false
   },
   "outputs": [],
   "source": [
    "# You can always use ./ to run a script. This will force the OS to look in the current folder for the script\n",
    "./aBashScript.sh"
   ]
  },
  {
   "cell_type": "code",
   "execution_count": null,
   "metadata": {
    "collapsed": true
   },
   "outputs": [],
   "source": [
    "# The process is not running in the path => change the path\n",
    "# The following add . (the current folder) to the path\n",
    "PATH=$PATH:."
   ]
  },
  {
   "cell_type": "code",
   "execution_count": null,
   "metadata": {
    "collapsed": false
   },
   "outputs": [],
   "source": [
    "# no need for the ./ anymore\n",
    "aBashScript.sh"
   ]
  },
  {
   "cell_type": "markdown",
   "metadata": {},
   "source": [
    "### Exercises\n",
    "Commands you did in Operating Systems (first year) [were](http://ss64.com/bash/):   \n",
    "ls, mv, rm, mkdir, cp, pwd, echo, touch and a few others.   \n",
    "You should now experiment by creating scripts using the HERE document style or vi that use one or more of these commands. Here are some ideas:    \n",
    "* Write a script called whereami.sh that tells you what folder you are in\n",
    "* Write a sctipt to dispay your user name using the NAME environment variable\n",
    "* Write a script called what_shell.sh that uses the SHELL variable to show the shell being used\n",
    "* Write a script called makefolder.sh that creates two folders called a_folder and b_folder. Create a file called data.dat (using touch) in the a_folder. Use ls to show the contents of the a_folder and then move data.dat to the b_folder. Use ls to show that data.dat is now in the b_folder.\n",
    "* a script called language.sh that uses the LANG environment variable to display the current language\n",
    "* a script called prompt.sh that displays the PS1 environment variable \n",
    "* a script called wordcount.sh that uses * echo $(wc --lines aBashScript.sh) * to display the number of words in the aBashScript.sh file\n",
    "    \n",
    "Write you code in the following cells. Shift + Enter will run the code. If you are prefer to write code using a text editor (from the command line) please do so. The next two cells show you how to create a HERE document, make it executable and run it"
   ]
  },
  {
   "cell_type": "code",
   "execution_count": null,
   "metadata": {
    "collapsed": true
   },
   "outputs": [],
   "source": [
    "cat << _EOF_ > sample.sh\n",
    "echo \"greetings from sample.sh\"\n",
    "_EOF_"
   ]
  },
  {
   "cell_type": "code",
   "execution_count": null,
   "metadata": {
    "collapsed": false
   },
   "outputs": [],
   "source": [
    "chmod 744 sample.sh\n",
    "./sample.sh"
   ]
  },
  {
   "cell_type": "code",
   "execution_count": null,
   "metadata": {
    "collapsed": true
   },
   "outputs": [],
   "source": []
  }
 ],
 "metadata": {
  "anaconda-cloud": {},
  "kernelspec": {
   "display_name": "Python 3",
   "language": "python",
   "name": "python3"
  },
  "language_info": {
   "codemirror_mode": {
    "name": "ipython",
    "version": 3
   },
   "file_extension": ".py",
   "mimetype": "text/x-python",
   "name": "python",
   "nbconvert_exporter": "python",
   "pygments_lexer": "ipython3",
   "version": "3.5.1"
  }
 },
 "nbformat": 4,
 "nbformat_minor": 2
}
